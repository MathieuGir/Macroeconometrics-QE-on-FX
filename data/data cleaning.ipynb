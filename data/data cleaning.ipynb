{
 "cells": [
  {
   "cell_type": "code",
   "execution_count": 1,
   "metadata": {},
   "outputs": [],
   "source": [
    "import pandas as pd\n",
    "import numpy as np"
   ]
  },
  {
   "cell_type": "code",
   "execution_count": 2,
   "metadata": {},
   "outputs": [
    {
     "name": "stdout",
     "output_type": "stream",
     "text": [
      "        date  EUR/USD\n",
      "0 2024-12-18   1.0501\n",
      "1 2024-12-17   1.0489\n",
      "2 2024-12-16   1.0510\n",
      "3 2024-12-13   1.0502\n",
      "4 2024-12-12   1.0467\n",
      "date       datetime64[ns]\n",
      "EUR/USD           float64\n",
      "dtype: object\n",
      "        date    VIX\n",
      "0 2024-12-27  17.40\n",
      "1 2024-12-26  14.73\n",
      "2 2024-12-24  14.27\n",
      "3 2024-12-23  16.78\n",
      "4 2024-12-20  18.36\n",
      "date    datetime64[ns]\n",
      "VIX            float64\n",
      "dtype: object\n",
      "        date  Euribor_90d\n",
      "0 1994-01-31         6.91\n",
      "1 1994-02-28         6.86\n",
      "2 1994-03-31         6.75\n",
      "3 1994-04-30         6.57\n",
      "4 1994-05-31         6.24\n",
      "date           datetime64[ns]\n",
      "Euribor_90d           float64\n",
      "dtype: object\n"
     ]
    },
    {
     "name": "stderr",
     "output_type": "stream",
     "text": [
      "C:\\Users\\mathi\\AppData\\Local\\Temp\\ipykernel_21808\\3424196915.py:9: UserWarning: Parsing dates in %d/%m/%Y format when dayfirst=False (the default) was specified. Pass `dayfirst=True` or specify a format to silence this warning.\n",
      "  vix['Date'] = pd.to_datetime(vix['Date'])\n"
     ]
    }
   ],
   "source": [
    "eur_usd = pd.read_csv('raw data/EUR_USD.csv')\n",
    "eur_usd['Date'] = pd.to_datetime(eur_usd['Date'])\n",
    "eur_usd.drop(['Open', 'High', 'Low', 'Vol.', 'Change %'], axis=1, inplace=True)\n",
    "eur_usd.rename(columns={'Price': 'EUR/USD', 'Date': 'date'}, inplace=True)\n",
    "print(eur_usd.head())\n",
    "print(eur_usd.dtypes)\n",
    "\n",
    "vix = pd.read_csv('raw data/VIX.csv')\n",
    "vix['Date'] = pd.to_datetime(vix['Date'])\n",
    "vix = vix[['Date', 'Dernier']]\n",
    "vix.rename(columns={'Dernier': 'VIX', 'Date': 'date'}, inplace=True)\n",
    "vix['VIX'] = vix['VIX'].str.replace(',', '.').astype(float)\n",
    "print(vix.head())\n",
    "print(vix.dtypes)\n",
    "\n",
    "euribor = pd.read_csv('raw data/Euribor_90d.csv')\n",
    "euribor['DATE'] = pd.to_datetime(euribor['DATE'])\n",
    "euribor = euribor.iloc[:, [0,2]]\n",
    "euribor.rename(columns = {'DATE': 'date', euribor.columns.values[1]: 'Euribor_90d'}, inplace=True)\n",
    "print(euribor.head())\n",
    "print(euribor.dtypes)"
   ]
  },
  {
   "cell_type": "code",
   "execution_count": 3,
   "metadata": {},
   "outputs": [
    {
     "name": "stdout",
     "output_type": "stream",
     "text": [
      "        date  ECB_assets\n",
      "0 1999-01-31    120372.0\n",
      "1 1999-02-28    120146.0\n",
      "2 1999-03-31    108028.0\n",
      "3 1999-04-30     89502.0\n",
      "4 1999-05-31     81784.0\n",
      "date          datetime64[ns]\n",
      "ECB_assets           float64\n",
      "dtype: object\n",
      "        date  FED_assets\n",
      "0 2002-12-18      719542\n",
      "1 2002-12-25      732059\n",
      "2 2003-01-01      730994\n",
      "3 2003-01-08      723762\n",
      "4 2003-01-15      720074\n",
      "date          datetime64[ns]\n",
      "FED_assets             int64\n",
      "dtype: object\n"
     ]
    }
   ],
   "source": [
    "ecb_al = pd.read_csv('raw data/ECB_Assets_liabilities.csv')\n",
    "ecb_al['DATE'] = pd.to_datetime(ecb_al['DATE'])\n",
    "ecb_al.drop(['TIME PERIOD'], axis=1, inplace=True)\n",
    "ecb_al.rename(columns = {\"DATE\": \"date\", \"Total Assets/Liabilities reported by the ECB (stocks) (BSI.M.4F.N.N.T00.A.1.Z5.0000.Z01.E)\":\"ECB_assets\"}, inplace=True)\n",
    "print(ecb_al.head())\n",
    "print(ecb_al.dtypes)\n",
    "\n",
    "fed_al = pd.read_csv('raw data/Fed_WALCL.csv')\n",
    "fed_al['observation_date'] = pd.to_datetime(fed_al['observation_date'])\n",
    "fed_al.rename(columns = {\"observation_date\": \"date\", \"WALCL\": \"FED_assets\"}, inplace=True)\n",
    "print(fed_al.head())\n",
    "print(fed_al.dtypes)"
   ]
  },
  {
   "cell_type": "code",
   "execution_count": 4,
   "metadata": {},
   "outputs": [
    {
     "name": "stdout",
     "output_type": "stream",
     "text": [
      "        date  ECB_assets  FED_assets  EUR/USD  VIX  Euribor_90d\n",
      "0 1994-01-31         NaN         NaN      NaN  NaN         6.91\n",
      "1 1994-02-28         NaN         NaN      NaN  NaN         6.86\n",
      "2 1994-03-31         NaN         NaN      NaN  NaN         6.75\n",
      "3 1994-04-30         NaN         NaN      NaN  NaN         6.57\n",
      "4 1994-05-31         NaN         NaN      NaN  NaN         6.24\n"
     ]
    }
   ],
   "source": [
    "from functools import reduce\n",
    "dfs = [ecb_al, fed_al, eur_usd, vix, euribor]\n",
    "merged_df = reduce(lambda left, right: pd.merge(left, right, on='date', how='outer'), dfs)\n",
    "merged_df = merged_df.sort_values(by='date')\n",
    "print(merged_df.head())"
   ]
  },
  {
   "cell_type": "code",
   "execution_count": 7,
   "metadata": {},
   "outputs": [
    {
     "name": "stdout",
     "output_type": "stream",
     "text": [
      "          date  ECB_assets  FED_assets  EUR/USD    VIX  Euribor_90d\n",
      "421 2008-01-01    254025.0    890662.0   1.4587    NaN       4.4815\n",
      "422 2008-01-02    254025.0    922187.0   1.4725  23.17       4.4815\n",
      "423 2008-01-03    254025.0    922187.0   1.4746  22.49       4.4815\n",
      "424 2008-01-04    254025.0    922187.0   1.4743  23.94       4.4815\n",
      "425 2008-01-07    254025.0    922187.0   1.4688  23.79       4.4815 \n",
      " date           datetime64[ns]\n",
      "ECB_assets            float64\n",
      "FED_assets            float64\n",
      "EUR/USD               float64\n",
      "VIX                   float64\n",
      "Euribor_90d           float64\n",
      "dtype: object\n"
     ]
    }
   ],
   "source": [
    "merged_df[['ECB_assets', 'FED_assets', 'EUR/USD', 'VIX']] = merged_df[['ECB_assets', 'FED_assets', 'EUR/USD', 'VIX']].ffill()\n",
    "merged_df['Euribor_90d'] = merged_df['Euribor_90d'].bfill()\n",
    "merged_df = merged_df[(merged_df['date'] >= '2008-01-01') & (merged_df['date'] <= '2024-12-01')]\n",
    "print(merged_df.head(), \"\\n\", merged_df.dtypes)"
   ]
  },
  {
   "cell_type": "code",
   "execution_count": 8,
   "metadata": {},
   "outputs": [],
   "source": [
    "merged_df.to_csv('daily_data.csv', index=False)"
   ]
  },
  {
   "cell_type": "code",
   "execution_count": 7,
   "metadata": {},
   "outputs": [],
   "source": [
    "def theoretical_cip(i_ecb, i_fed, spot_rate):\n",
    "    f = spot_rate*(1+i_ecb)/(1+i_fed)\n",
    "    return f\n"
   ]
  },
  {
   "cell_type": "code",
   "execution_count": 5,
   "metadata": {},
   "outputs": [],
   "source": [
    "def cip_deviation(forward, theoretical_cip):\n",
    "    deviation = forward - theoretical_cip\n",
    "    return deviation"
   ]
  },
  {
   "cell_type": "code",
   "execution_count": null,
   "metadata": {},
   "outputs": [],
   "source": []
  }
 ],
 "metadata": {
  "kernelspec": {
   "display_name": "Python 3",
   "language": "python",
   "name": "python3"
  },
  "language_info": {
   "codemirror_mode": {
    "name": "ipython",
    "version": 3
   },
   "file_extension": ".py",
   "mimetype": "text/x-python",
   "name": "python",
   "nbconvert_exporter": "python",
   "pygments_lexer": "ipython3",
   "version": "3.12.4"
  }
 },
 "nbformat": 4,
 "nbformat_minor": 2
}
