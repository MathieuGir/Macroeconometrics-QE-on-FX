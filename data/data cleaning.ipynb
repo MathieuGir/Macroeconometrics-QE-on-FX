{
 "cells": [
  {
   "cell_type": "code",
   "execution_count": 1,
   "metadata": {},
   "outputs": [],
   "source": [
    "import pandas as pd\n",
    "import numpy as np\n",
    "from functools import reduce"
   ]
  },
  {
   "cell_type": "code",
   "execution_count": 2,
   "metadata": {},
   "outputs": [
    {
     "name": "stderr",
     "output_type": "stream",
     "text": [
      "<>:1: SyntaxWarning: invalid escape sequence '\\c'\n",
      "<>:1: SyntaxWarning: invalid escape sequence '\\c'\n",
      "C:\\Users\\mathi\\AppData\\Local\\Temp\\ipykernel_14044\\1354302583.py:1: SyntaxWarning: invalid escape sequence '\\c'\n",
      "  cip_dev = pd.read_csv('raw data\\cip_dataset_v3.csv')\n"
     ]
    },
    {
     "data": {
      "text/html": [
       "<div>\n",
       "<style scoped>\n",
       "    .dataframe tbody tr th:only-of-type {\n",
       "        vertical-align: middle;\n",
       "    }\n",
       "\n",
       "    .dataframe tbody tr th {\n",
       "        vertical-align: top;\n",
       "    }\n",
       "\n",
       "    .dataframe thead th {\n",
       "        text-align: right;\n",
       "    }\n",
       "</style>\n",
       "<table border=\"1\" class=\"dataframe\">\n",
       "  <thead>\n",
       "    <tr style=\"text-align: right;\">\n",
       "      <th></th>\n",
       "      <th>date</th>\n",
       "      <th>cip</th>\n",
       "    </tr>\n",
       "  </thead>\n",
       "  <tbody>\n",
       "    <tr>\n",
       "      <th>799935</th>\n",
       "      <td>2008-01-01</td>\n",
       "      <td>102.233268</td>\n",
       "    </tr>\n",
       "    <tr>\n",
       "      <th>799936</th>\n",
       "      <td>2008-01-02</td>\n",
       "      <td>86.849101</td>\n",
       "    </tr>\n",
       "    <tr>\n",
       "      <th>799937</th>\n",
       "      <td>2008-01-03</td>\n",
       "      <td>88.964206</td>\n",
       "    </tr>\n",
       "    <tr>\n",
       "      <th>799938</th>\n",
       "      <td>2008-01-04</td>\n",
       "      <td>86.474503</td>\n",
       "    </tr>\n",
       "    <tr>\n",
       "      <th>799939</th>\n",
       "      <td>2008-01-07</td>\n",
       "      <td>76.213637</td>\n",
       "    </tr>\n",
       "  </tbody>\n",
       "</table>\n",
       "</div>"
      ],
      "text/plain": [
       "             date         cip\n",
       "799935 2008-01-01  102.233268\n",
       "799936 2008-01-02   86.849101\n",
       "799937 2008-01-03   88.964206\n",
       "799938 2008-01-04   86.474503\n",
       "799939 2008-01-07   76.213637"
      ]
     },
     "execution_count": 2,
     "metadata": {},
     "output_type": "execute_result"
    }
   ],
   "source": [
    "cip_dev = pd.read_csv('raw data\\cip_dataset_v3.csv')\n",
    "cip_dev = cip_dev.loc[cip_dev['currency'] == 'EUR']\n",
    "cip_dev = cip_dev.loc[cip_dev['tenor'] == '3m']\n",
    "#CIP for the euro on a 3M basis\n",
    "cip_dev['date'] = pd.to_datetime(cip_dev['date'], format='%d%b%Y', errors='coerce')\n",
    "cip_dev['cip_govt'] = cip_dev['cip_govt'].interpolate(method='linear')\n",
    "cip_dev = cip_dev[cip_dev['date'] >= '2008-01-01']\n",
    "cip_dev = cip_dev[['date', 'cip_govt']]\n",
    "cip_dev.rename(columns={'cip_govt': 'cip'}, inplace=True)\n",
    "cip_dev.head()"
   ]
  },
  {
   "cell_type": "code",
   "execution_count": 3,
   "metadata": {},
   "outputs": [
    {
     "name": "stdout",
     "output_type": "stream",
     "text": [
      "           date  fed_target\n",
      "0    2008-01-01       4.250\n",
      "1    2008-01-02       4.250\n",
      "2    2008-01-03       4.250\n",
      "3    2008-01-04       4.250\n",
      "4    2008-01-05       4.250\n",
      "...         ...         ...\n",
      "6215 2025-01-06       4.375\n",
      "6216 2025-01-07       4.375\n",
      "6217 2025-01-08       4.375\n",
      "6218 2025-01-09       4.375\n",
      "6219 2025-01-10       4.375\n",
      "\n",
      "[6220 rows x 2 columns]\n"
     ]
    },
    {
     "name": "stderr",
     "output_type": "stream",
     "text": [
      "<>:1: SyntaxWarning: invalid escape sequence '\\D'\n",
      "<>:2: SyntaxWarning: invalid escape sequence '\\D'\n",
      "<>:3: SyntaxWarning: invalid escape sequence '\\D'\n",
      "<>:1: SyntaxWarning: invalid escape sequence '\\D'\n",
      "<>:2: SyntaxWarning: invalid escape sequence '\\D'\n",
      "<>:3: SyntaxWarning: invalid escape sequence '\\D'\n",
      "C:\\Users\\mathi\\AppData\\Local\\Temp\\ipykernel_14044\\3629607993.py:1: SyntaxWarning: invalid escape sequence '\\D'\n",
      "  fed_target = pd.read_csv('raw data\\DFEDTAR.csv')\n",
      "C:\\Users\\mathi\\AppData\\Local\\Temp\\ipykernel_14044\\3629607993.py:2: SyntaxWarning: invalid escape sequence '\\D'\n",
      "  fed_target_u = pd.read_csv('raw data\\DFEDTARU.csv')\n",
      "C:\\Users\\mathi\\AppData\\Local\\Temp\\ipykernel_14044\\3629607993.py:3: SyntaxWarning: invalid escape sequence '\\D'\n",
      "  fed_target_l = pd.read_csv('raw data\\DFEDTARL.csv')\n"
     ]
    }
   ],
   "source": [
    "fed_target = pd.read_csv('raw data\\DFEDTAR.csv')\n",
    "fed_target_u = pd.read_csv('raw data\\DFEDTARU.csv')\n",
    "fed_target_l = pd.read_csv('raw data\\DFEDTARL.csv')\n",
    "\n",
    "\n",
    "fed_target['observation_date'] = pd.to_datetime(fed_target['observation_date'])\n",
    "fed_target_u['observation_date'] = pd.to_datetime(fed_target_u['observation_date'])\n",
    "fed_target_l['observation_date'] = pd.to_datetime(fed_target_l['observation_date'])\n",
    "\n",
    "merged_fed_target = pd.merge(fed_target, fed_target_u, on='observation_date', how='outer', suffixes=('', '_u'))\n",
    "merged_fed_target = pd.merge(merged_fed_target, fed_target_l, on='observation_date', how='outer', suffixes=('', '_l'))\n",
    "\n",
    "merged_fed_target['fed_target'] = merged_fed_target.apply(\n",
    "    lambda row: row['DFEDTAR'] if pd.notna(row['DFEDTAR']) and row['observation_date'] <= pd.Timestamp('2008-12-15')\n",
    "    else (row['DFEDTARU'] + row['DFEDTARL']) / 2 if pd.notna(row['DFEDTARU']) and pd.notna(row['DFEDTARL']) #assume that the Fed target rate is the average of the upper and lower bound of the corridor\n",
    "    else None,\n",
    "    axis=1)\n",
    "\n",
    "merged_fed_target = merged_fed_target.rename(columns={'observation_date': 'date'})\n",
    "merged_fed_target = merged_fed_target[['date', 'fed_target']]\n",
    "print(merged_fed_target)"
   ]
  },
  {
   "cell_type": "code",
   "execution_count": 4,
   "metadata": {},
   "outputs": [
    {
     "name": "stdout",
     "output_type": "stream",
     "text": [
      "        date  EUR/USD\n",
      "0 2024-12-18   1.0501\n",
      "1 2024-12-17   1.0489\n",
      "2 2024-12-16   1.0510\n",
      "3 2024-12-13   1.0502\n",
      "4 2024-12-12   1.0467\n",
      "date       datetime64[ns]\n",
      "EUR/USD           float64\n",
      "dtype: object\n",
      "           date    VIX\n",
      "4317 2007-12-31  22.50\n",
      "4295 2008-01-02  24.02\n",
      "4255 2008-01-04  22.68\n",
      "4233 2008-01-05  18.88\n",
      "4191 2008-01-07  23.65\n",
      "date    datetime64[ns]\n",
      "VIX            float64\n",
      "dtype: object\n",
      "date        datetime64[ns]\n",
      "us_tb90d           float64\n",
      "dtype: object\n",
      "        date  ecb_fdr\n",
      "0 1999-01-01     2.00\n",
      "1 1999-01-02     2.00\n",
      "2 1999-01-03     2.00\n",
      "3 1999-01-04     2.75\n",
      "4 1999-01-05     2.75\n",
      "date       datetime64[ns]\n",
      "ecb_fdr           float64\n",
      "dtype: object\n",
      "          date  Euribor_90d\n",
      "168 2008-01-31       4.4815\n",
      "169 2008-02-29       4.3621\n",
      "170 2008-03-31       4.5964\n",
      "171 2008-04-30       4.7835\n",
      "172 2008-05-31       4.8574\n",
      "date           datetime64[ns]\n",
      "Euribor_90d           float64\n",
      "dtype: object\n"
     ]
    },
    {
     "name": "stderr",
     "output_type": "stream",
     "text": [
      "<>:17: SyntaxWarning: invalid escape sequence '\\T'\n",
      "<>:17: SyntaxWarning: invalid escape sequence '\\T'\n",
      "C:\\Users\\mathi\\AppData\\Local\\Temp\\ipykernel_14044\\1843354132.py:17: SyntaxWarning: invalid escape sequence '\\T'\n",
      "  us_tb90d= pd.read_csv('raw data\\TB3MS.csv')\n"
     ]
    }
   ],
   "source": [
    "eur_usd = pd.read_csv('raw data/EUR_USD.csv')\n",
    "eur_usd['Date'] = pd.to_datetime(eur_usd['Date'])\n",
    "eur_usd.drop(['Open', 'High', 'Low', 'Vol.', 'Change %'], axis=1, inplace=True)\n",
    "eur_usd.rename(columns={'Price': 'EUR/USD', 'Date': 'date'}, inplace=True)\n",
    "print(eur_usd.head())\n",
    "print(eur_usd.dtypes)\n",
    "\n",
    "vix = pd.read_csv('raw data/VIX.csv')\n",
    "vix['Date'] = pd.to_datetime(vix['Date'], format='mixed')\n",
    "vix = vix[['Date', 'Dernier']]\n",
    "vix.rename(columns={'Dernier': 'VIX', 'Date': 'date'}, inplace=True)\n",
    "vix['VIX'] = vix['VIX'].str.replace(',', '.').astype(float)\n",
    "vix.sort_values(by='date', inplace=True)\n",
    "print(vix.head())\n",
    "print(vix.dtypes)\n",
    "\n",
    "us_tb90d= pd.read_csv('raw data\\TB3MS.csv')\n",
    "us_tb90d.rename(columns={'observation_date': 'date', 'TB3MS': 'us_tb90d'}, inplace=True)\n",
    "us_tb90d['date'] = pd.to_datetime(us_tb90d['date'])\n",
    "us_tb90d.head()\n",
    "print(us_tb90d.dtypes)\n",
    "\n",
    "ecb_fdr = pd.read_csv('raw data/ECB_FDR.csv')\n",
    "ecb_fdr['DATE'] = pd.to_datetime(ecb_fdr['DATE'])\n",
    "ecb_fdr = ecb_fdr.iloc[:, [0,2]]\n",
    "ecb_fdr.columns.values[0], ecb_fdr.columns.values[1] = 'date', 'ecb_fdr'\n",
    "print(ecb_fdr.head())\n",
    "print(ecb_fdr.dtypes)\n",
    "\n",
    "euribor = pd.read_csv('raw data/Euribor_90d.csv')\n",
    "euribor['DATE'] = pd.to_datetime(euribor['DATE'])\n",
    "euribor = euribor.iloc[:, [0,2]]\n",
    "euribor.rename(columns = {'DATE': 'date', euribor.columns.values[1]: 'Euribor_90d'}, inplace=True)\n",
    "euribor = euribor[euribor['date'] >= '2008-01-01']\n",
    "print(euribor.head())\n",
    "print(euribor.dtypes)\n"
   ]
  },
  {
   "cell_type": "code",
   "execution_count": 5,
   "metadata": {},
   "outputs": [
    {
     "data": {
      "text/html": [
       "<div>\n",
       "<style scoped>\n",
       "    .dataframe tbody tr th:only-of-type {\n",
       "        vertical-align: middle;\n",
       "    }\n",
       "\n",
       "    .dataframe tbody tr th {\n",
       "        vertical-align: top;\n",
       "    }\n",
       "\n",
       "    .dataframe thead th {\n",
       "        text-align: right;\n",
       "    }\n",
       "</style>\n",
       "<table border=\"1\" class=\"dataframe\">\n",
       "  <thead>\n",
       "    <tr style=\"text-align: right;\">\n",
       "      <th></th>\n",
       "      <th>date</th>\n",
       "      <th>us2Y</th>\n",
       "    </tr>\n",
       "  </thead>\n",
       "  <tbody>\n",
       "    <tr>\n",
       "      <th>0</th>\n",
       "      <td>2008-01-02</td>\n",
       "      <td>2.88</td>\n",
       "    </tr>\n",
       "    <tr>\n",
       "      <th>1</th>\n",
       "      <td>2008-01-03</td>\n",
       "      <td>2.83</td>\n",
       "    </tr>\n",
       "    <tr>\n",
       "      <th>2</th>\n",
       "      <td>2008-01-04</td>\n",
       "      <td>2.74</td>\n",
       "    </tr>\n",
       "    <tr>\n",
       "      <th>3</th>\n",
       "      <td>2008-01-07</td>\n",
       "      <td>2.76</td>\n",
       "    </tr>\n",
       "    <tr>\n",
       "      <th>4</th>\n",
       "      <td>2008-01-08</td>\n",
       "      <td>2.76</td>\n",
       "    </tr>\n",
       "  </tbody>\n",
       "</table>\n",
       "</div>"
      ],
      "text/plain": [
       "        date  us2Y\n",
       "0 2008-01-02  2.88\n",
       "1 2008-01-03  2.83\n",
       "2 2008-01-04  2.74\n",
       "3 2008-01-07  2.76\n",
       "4 2008-01-08  2.76"
      ]
     },
     "execution_count": 5,
     "metadata": {},
     "output_type": "execute_result"
    }
   ],
   "source": [
    "eur2Y = pd.read_csv('raw data/2Y_EUR.csv')\n",
    "eur2Y.columns.values[0], eur2Y.columns.values[2] = 'date', 'eur2Y'\n",
    "eur2Y = eur2Y[['date', 'eur2Y']]\n",
    "eur2Y['date'] = pd.to_datetime(eur2Y['date'])\n",
    "eur2Y = eur2Y[eur2Y['date'] >= '2007-12-31']\n",
    "eur2Y.head()\n",
    "\n",
    "us2Y = pd.read_csv('raw data/2Y_US.csv')\n",
    "us2Y.columns.values[0], us2Y.columns.values[1] = 'date', 'us2Y'\n",
    "us2Y['date'] = pd.to_datetime(us2Y['date'])\n",
    "us2Y.head()"
   ]
  },
  {
   "cell_type": "code",
   "execution_count": 6,
   "metadata": {},
   "outputs": [
    {
     "name": "stdout",
     "output_type": "stream",
     "text": [
      "        date  sov_diff2Y\n",
      "0 2007-12-31    1.177300\n",
      "1 2008-01-01    1.166987\n",
      "2 2008-01-02    1.156674\n",
      "3 2008-01-03    1.196361\n",
      "4 2008-01-04    1.276048\n"
     ]
    }
   ],
   "source": [
    "daily_dates = pd.DataFrame({'date': pd.date_range(start='2007-12-31', end='2024-12-31', freq='D')})\n",
    "\n",
    "sov_diff2Y = pd.merge(daily_dates, eur2Y, on='date', how='left')\n",
    "sov_diff2Y = pd.merge(sov_diff2Y, us2Y, on='date', how='left')\n",
    "\n",
    "sov_diff2Y['eur2Y'] = sov_diff2Y['eur2Y'].interpolate(method='linear')\n",
    "sov_diff2Y['us2Y'] = sov_diff2Y['us2Y'].interpolate(method='linear')\n",
    "sov_diff2Y['us2Y'] = sov_diff2Y['us2Y'].bfill()\n",
    "\n",
    "sov_diff2Y['sov_diff2Y'] = sov_diff2Y['eur2Y'] - sov_diff2Y['us2Y']\n",
    "sov_diff2Y = sov_diff2Y[['date', 'sov_diff2Y']]\n",
    "print(sov_diff2Y.head())"
   ]
  },
  {
   "cell_type": "code",
   "execution_count": 7,
   "metadata": {},
   "outputs": [
    {
     "name": "stdout",
     "output_type": "stream",
     "text": [
      "          date  ECB_assets\n",
      "310 2008-01-01    254025.0\n",
      "108 2008-01-31    281242.0\n",
      "109 2008-02-29    280272.0\n",
      "110 2008-03-31    286875.0\n",
      "111 2008-04-30    299684.0\n",
      "date          datetime64[ns]\n",
      "ECB_assets           float64\n",
      "dtype: object\n"
     ]
    }
   ],
   "source": [
    "ecb_al = pd.read_csv('raw data/ECB_Assets_liabilities.csv')\n",
    "ecb_al['DATE'] = pd.to_datetime(ecb_al['DATE'])\n",
    "ecb_al.drop(['TIME PERIOD'], axis=1, inplace=True)\n",
    "ecb_al.rename(columns = {\"DATE\": \"date\", \"Total Assets/Liabilities reported by the ECB (stocks) (BSI.M.4F.N.N.T00.A.1.Z5.0000.Z01.E)\":\"ECB_assets\"}, inplace=True)\n",
    "\n",
    "last_known_row = ecb_al[ecb_al['date'] <= pd.to_datetime('01/01/2008')].iloc[-1]\n",
    "new_row = last_known_row.copy()\n",
    "new_row['date'] = pd.to_datetime('01/01/2008')\n",
    "ecb_al.loc[len(ecb_al)] = new_row\n",
    "ecb_al = ecb_al[ecb_al['date'] >= '2008-01-01']\n",
    "ecb_al = ecb_al.sort_values('date')\n",
    "\n",
    "print(ecb_al.head())\n",
    "print(ecb_al.dtypes)"
   ]
  },
  {
   "cell_type": "code",
   "execution_count": 8,
   "metadata": {},
   "outputs": [
    {
     "name": "stdout",
     "output_type": "stream",
     "text": [
      "           date  FED_assets\n",
      "1148 2008-01-01      890662\n",
      "263  2008-01-02      922187\n",
      "264  2008-01-09      880754\n",
      "265  2008-01-16      893581\n",
      "266  2008-01-23      877253\n",
      "date          datetime64[ns]\n",
      "FED_assets             int64\n",
      "dtype: object\n"
     ]
    }
   ],
   "source": [
    "fed_al = pd.read_csv('raw data/Fed_WALCL.csv')\n",
    "fed_al['observation_date'] = pd.to_datetime(fed_al['observation_date'])\n",
    "fed_al.rename(columns = {\"observation_date\": \"date\", \"WALCL\": \"FED_assets\"}, inplace=True)\n",
    "\n",
    "last_known_row = fed_al[fed_al['date'] <= pd.to_datetime('01/01/2008')].iloc[-1]\n",
    "new_row = last_known_row.copy()\n",
    "new_row['date'] = pd.to_datetime('01/01/2008')\n",
    "fed_al.loc[len(fed_al)] = new_row\n",
    "fed_al = fed_al[fed_al['date'] >= '2008-01-01']\n",
    "fed_al = fed_al.sort_values('date')\n",
    "\n",
    "print(fed_al.head())\n",
    "print(fed_al.dtypes)"
   ]
  },
  {
   "cell_type": "code",
   "execution_count": 9,
   "metadata": {},
   "outputs": [
    {
     "name": "stdout",
     "output_type": "stream",
     "text": [
      "date       datetime64[ns]\n",
      "libor3M           float64\n",
      "dtype: object\n"
     ]
    }
   ],
   "source": [
    "surprise_index = pd.read_csv('raw data/ECOSURP.csv', sep=';')\n",
    "surprise_index.columns.values[0], surprise_index.columns.values[1] = 'date', 'surprise_index'\n",
    "surprise_index['date'] = pd.to_datetime(surprise_index['date'], format='mixed')\n",
    "surprise_index = surprise_index[['date', 'surprise_index']]\n",
    "surprise_index['surprise_index'] = surprise_index['surprise_index'].str.replace(',', '.').astype(float)\n",
    "surprise_index.head()\n",
    "surprise_index.dtypes\n",
    "\n",
    "libor3M = pd.read_csv('raw data/Libor3M.csv', sep = ';')\n",
    "libor3M.columns.values[0], libor3M.columns.values[1] = 'date', 'libor3M'\n",
    "libor3M['date'] = pd.to_datetime(libor3M['date'], format='mixed')\n",
    "libor3M = libor3M[['date', 'libor3M']]\n",
    "libor3M['libor3M'] = libor3M['libor3M'].str.replace(',', '.').astype(float)\n",
    "libor3M.head()\n",
    "print(libor3M.dtypes)"
   ]
  },
  {
   "cell_type": "code",
   "execution_count": 10,
   "metadata": {},
   "outputs": [
    {
     "data": {
      "text/html": [
       "<div>\n",
       "<style scoped>\n",
       "    .dataframe tbody tr th:only-of-type {\n",
       "        vertical-align: middle;\n",
       "    }\n",
       "\n",
       "    .dataframe tbody tr th {\n",
       "        vertical-align: top;\n",
       "    }\n",
       "\n",
       "    .dataframe thead th {\n",
       "        text-align: right;\n",
       "    }\n",
       "</style>\n",
       "<table border=\"1\" class=\"dataframe\">\n",
       "  <thead>\n",
       "    <tr style=\"text-align: right;\">\n",
       "      <th></th>\n",
       "      <th>date</th>\n",
       "      <th>Meeting_ECB</th>\n",
       "      <th>Meeting_FED</th>\n",
       "    </tr>\n",
       "  </thead>\n",
       "  <tbody>\n",
       "    <tr>\n",
       "      <th>0</th>\n",
       "      <td>2008-01-01</td>\n",
       "      <td>0</td>\n",
       "      <td>0</td>\n",
       "    </tr>\n",
       "    <tr>\n",
       "      <th>1</th>\n",
       "      <td>2008-01-02</td>\n",
       "      <td>0</td>\n",
       "      <td>0</td>\n",
       "    </tr>\n",
       "    <tr>\n",
       "      <th>2</th>\n",
       "      <td>2008-01-03</td>\n",
       "      <td>0</td>\n",
       "      <td>0</td>\n",
       "    </tr>\n",
       "    <tr>\n",
       "      <th>3</th>\n",
       "      <td>2008-01-04</td>\n",
       "      <td>0</td>\n",
       "      <td>0</td>\n",
       "    </tr>\n",
       "    <tr>\n",
       "      <th>4</th>\n",
       "      <td>2008-01-05</td>\n",
       "      <td>0</td>\n",
       "      <td>0</td>\n",
       "    </tr>\n",
       "  </tbody>\n",
       "</table>\n",
       "</div>"
      ],
      "text/plain": [
       "        date  Meeting_ECB  Meeting_FED\n",
       "0 2008-01-01            0            0\n",
       "1 2008-01-02            0            0\n",
       "2 2008-01-03            0            0\n",
       "3 2008-01-04            0            0\n",
       "4 2008-01-05            0            0"
      ]
     },
     "execution_count": 10,
     "metadata": {},
     "output_type": "execute_result"
    }
   ],
   "source": [
    "both_release = pd.read_csv('raw data/BOTH_release.csv')\n",
    "both_release.columns.values[0] = 'date'\n",
    "both_release['date'] = pd.to_datetime(both_release['date'], format='mixed')\n",
    "both_release.head()\n",
    "#print(both_release.dtypes)"
   ]
  },
  {
   "cell_type": "code",
   "execution_count": 11,
   "metadata": {},
   "outputs": [
    {
     "name": "stdout",
     "output_type": "stream",
     "text": [
      "        date  ECB_assets  FED_assets  EUR/USD    VIX\n",
      "0 2007-12-31         NaN         NaN      NaN  22.50\n",
      "1 2008-01-01    254025.0    890662.0   1.4587    NaN\n",
      "2 2008-01-02         NaN    922187.0   1.4725  24.02\n",
      "3 2008-01-03         NaN         NaN   1.4746    NaN\n",
      "4 2008-01-04         NaN         NaN   1.4743  22.68\n"
     ]
    }
   ],
   "source": [
    "dfs = [ecb_al, fed_al, eur_usd, vix]\n",
    "merged_df = reduce(lambda left, right: pd.merge(left, right, on='date', how='outer'), dfs)\n",
    "merged_df = merged_df.sort_values(by='date')\n",
    "print(merged_df.head()) "
   ]
  },
  {
   "cell_type": "code",
   "execution_count": 12,
   "metadata": {},
   "outputs": [
    {
     "name": "stdout",
     "output_type": "stream",
     "text": [
      "        date  ECB_assets  FED_assets  EUR/USD    VIX\n",
      "1 2008-01-01    254025.0    890662.0   1.4587  22.50\n",
      "2 2008-01-02    254025.0    922187.0   1.4725  24.02\n",
      "3 2008-01-03    254025.0    922187.0   1.4746  24.02\n",
      "4 2008-01-04    254025.0    922187.0   1.4743  22.68\n",
      "5 2008-01-05    254025.0    922187.0   1.4743  18.88 \n",
      " date          datetime64[ns]\n",
      "ECB_assets           float64\n",
      "FED_assets           float64\n",
      "EUR/USD              float64\n",
      "VIX                  float64\n",
      "dtype: object\n"
     ]
    }
   ],
   "source": [
    "merged_df[['ECB_assets', 'FED_assets', 'EUR/USD', 'VIX']] = merged_df[['ECB_assets', 'FED_assets', 'EUR/USD', 'VIX']].ffill()\n",
    "merged_df = merged_df[(merged_df['date'] >= '2008-01-01') & (merged_df['date'] <= '2024-12-01')]\n",
    "print(merged_df.head(), \"\\n\", merged_df.dtypes)"
   ]
  },
  {
   "cell_type": "code",
   "execution_count": 13,
   "metadata": {},
   "outputs": [
    {
     "name": "stdout",
     "output_type": "stream",
     "text": [
      "        date  ECB_assets  FED_assets  EUR/USD  VIX  fed_target  Euribor_90d  \\\n",
      "0 1999-01-01         NaN         NaN      NaN  NaN         NaN          NaN   \n",
      "1 1999-01-02         NaN         NaN      NaN  NaN         NaN          NaN   \n",
      "2 1999-01-03         NaN         NaN      NaN  NaN         NaN          NaN   \n",
      "3 1999-01-04         NaN         NaN      NaN  NaN         NaN          NaN   \n",
      "4 1999-01-05         NaN         NaN      NaN  NaN         NaN          NaN   \n",
      "\n",
      "   libor3M  surprise_index  cip  sov_diff2Y  Meeting_ECB  Meeting_FED  ecb_fdr  \n",
      "0      NaN             NaN  NaN         NaN          NaN          NaN     2.00  \n",
      "1      NaN             NaN  NaN         NaN          NaN          NaN     2.00  \n",
      "2      NaN             NaN  NaN         NaN          NaN          NaN     2.00  \n",
      "3      NaN             NaN  NaN         NaN          NaN          NaN     2.75  \n",
      "4      NaN             NaN  NaN         NaN          NaN          NaN     2.75  \n"
     ]
    }
   ],
   "source": [
    "other_dfs = [merged_fed_target, euribor, libor3M, surprise_index, cip_dev, sov_diff2Y, both_release, ecb_fdr]\n",
    "\n",
    "for df in other_dfs:\n",
    "    merged_df = pd.merge(merged_df, df, on='date', how='outer')\n",
    "\n",
    "print(merged_df.head())"
   ]
  },
  {
   "cell_type": "code",
   "execution_count": 14,
   "metadata": {},
   "outputs": [
    {
     "name": "stdout",
     "output_type": "stream",
     "text": [
      "           date  ECB_assets  FED_assets  EUR/USD    VIX  fed_target  \\\n",
      "3287 2008-01-01    254025.0    890662.0   1.4587  22.50        4.25   \n",
      "3288 2008-01-02    254025.0    922187.0   1.4725  24.02        4.25   \n",
      "3289 2008-01-03    254025.0    922187.0   1.4746  24.02        4.25   \n",
      "3290 2008-01-04    254025.0    922187.0   1.4743  22.68        4.25   \n",
      "3291 2008-01-05    254025.0    922187.0   1.4743  18.88        4.25   \n",
      "\n",
      "      Euribor_90d   libor3M  surprise_index         cip  sov_diff2Y  \\\n",
      "3287       4.4815  3.898750             NaN  102.233268    1.166987   \n",
      "3288       4.4815  3.095000       -0.204000   86.849101    1.156674   \n",
      "3289       4.4815  2.889375       -0.160333   88.964206    1.196361   \n",
      "3290       4.4815  2.683750       -0.116667   86.474503    1.276048   \n",
      "3291       4.4815  2.784380       -0.073000   83.054214    1.259069   \n",
      "\n",
      "      Meeting_ECB  Meeting_FED  ecb_fdr  \n",
      "3287          0.0          0.0      3.0  \n",
      "3288          0.0          0.0      3.0  \n",
      "3289          0.0          0.0      3.0  \n",
      "3290          0.0          0.0      3.0  \n",
      "3291          0.0          0.0      3.0  \n"
     ]
    }
   ],
   "source": [
    "#Filling out NaNs\n",
    "merged_df['VIX'] = merged_df['VIX'].interpolate()\n",
    "merged_df['libor3M'] = merged_df['libor3M'].interpolate()\n",
    "merged_df['surprise_index'] = merged_df['surprise_index'].interpolate()\n",
    "merged_df['cip'] = merged_df['cip'].interpolate()\n",
    "merged_df['ECB_assets'] = merged_df['ECB_assets'].interpolate()\n",
    "merged_df['FED_assets'] = merged_df['FED_assets'].interpolate()\n",
    "merged_df['EUR/USD'] = merged_df['EUR/USD'].interpolate()\n",
    "merged_df['Euribor_90d'] = merged_df['Euribor_90d'].bfill()\n",
    "merged_df = merged_df[(merged_df['date'] >= '2008-01-01') & (merged_df['date'] < '2021-09-04')]\n",
    "print(merged_df.head())"
   ]
  },
  {
   "cell_type": "code",
   "execution_count": 15,
   "metadata": {},
   "outputs": [],
   "source": [
    "merged_df.to_csv('cleaned data/daily_data.csv', index=False)"
   ]
  }
 ],
 "metadata": {
  "kernelspec": {
   "display_name": "Python 3",
   "language": "python",
   "name": "python3"
  },
  "language_info": {
   "codemirror_mode": {
    "name": "ipython",
    "version": 3
   },
   "file_extension": ".py",
   "mimetype": "text/x-python",
   "name": "python",
   "nbconvert_exporter": "python",
   "pygments_lexer": "ipython3",
   "version": "3.12.4"
  }
 },
 "nbformat": 4,
 "nbformat_minor": 2
}
