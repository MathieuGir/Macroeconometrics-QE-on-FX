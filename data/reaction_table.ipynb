{
 "cells": [
  {
   "cell_type": "code",
   "execution_count": 1,
   "metadata": {},
   "outputs": [],
   "source": [
    "import pandas as pd\n",
    "import numpy as np\n",
    "import matplotlib.pyplot as plt"
   ]
  },
  {
   "cell_type": "code",
   "execution_count": 2,
   "metadata": {},
   "outputs": [
    {
     "name": "stdout",
     "output_type": "stream",
     "text": [
      "          date  ECB_assets\n",
      "310 2008-01-01    254025.0\n",
      "108 2008-01-31    281242.0\n",
      "109 2008-02-29    280272.0\n",
      "110 2008-03-31    286875.0\n",
      "111 2008-04-30    299684.0\n",
      "date          datetime64[ns]\n",
      "ECB_assets           float64\n",
      "dtype: object\n"
     ]
    }
   ],
   "source": [
    "ecb_al = pd.read_csv('raw data/ECB_Assets_liabilities.csv')\n",
    "ecb_al['DATE'] = pd.to_datetime(ecb_al['DATE'])\n",
    "ecb_al.drop(['TIME PERIOD'], axis=1, inplace=True)\n",
    "ecb_al.rename(columns = {\"DATE\": \"date\", \"Total Assets/Liabilities reported by the ECB (stocks) (BSI.M.4F.N.N.T00.A.1.Z5.0000.Z01.E)\":\"ECB_assets\"}, inplace=True)\n",
    "\n",
    "last_known_row = ecb_al[ecb_al['date'] <= pd.to_datetime('01/01/2008')].iloc[-1]\n",
    "new_row = last_known_row.copy()\n",
    "new_row['date'] = pd.to_datetime('01/01/2008')\n",
    "ecb_al.loc[len(ecb_al)] = new_row\n",
    "ecb_al = ecb_al[ecb_al['date'] >= '2008-01-01']\n",
    "ecb_al = ecb_al.sort_values('date')\n",
    "\n",
    "print(ecb_al.head())\n",
    "print(ecb_al.dtypes)"
   ]
  },
  {
   "cell_type": "code",
   "execution_count": 4,
   "metadata": {},
   "outputs": [
    {
     "data": {
      "text/plain": [
       "date           datetime64[ns]\n",
       "ECB_release             int64\n",
       "dtype: object"
      ]
     },
     "execution_count": 4,
     "metadata": {},
     "output_type": "execute_result"
    }
   ],
   "source": [
    "ecb_release = pd.read_csv('raw data/ECB_release.csv')\n",
    "ecb_release.head()\n",
    "ecb_release['Date'] = pd.to_datetime(ecb_release['Date'])\n",
    "ecb_release.columns = 'date', 'ECB_release'\n",
    "\n",
    "additional_dates = pd.to_datetime(['2019-09-12', '2020-03-18', '2023-02-02'])\n",
    "ecb_release.loc[(ecb_release['ECB_release'] == 0) & (ecb_release['date'].isin(additional_dates)), 'ECB_release'] = 1\n",
    "\n",
    "ecb_release.dtypes"
   ]
  },
  {
   "cell_type": "code",
   "execution_count": 5,
   "metadata": {},
   "outputs": [
    {
     "name": "stdout",
     "output_type": "stream",
     "text": [
      "         date eurostoxx_change\n",
      "0  01/10/2025           -0.82%\n",
      "1  01/09/2025            0.43%\n",
      "2  01/08/2025           -0.31%\n",
      "3  01/07/2025            0.50%\n",
      "4  01/06/2025            2.36%\n"
     ]
    }
   ],
   "source": [
    "eurostoxx = pd.read_csv('raw data/Euro Stoxx 50.csv')\n",
    "eurostoxx.head()\n",
    "eurostoxx = eurostoxx[['Date', 'Change %']]\n",
    "eurostoxx.columns = ['date', 'eurostoxx_change']\n",
    "print(eurostoxx.head())\n",
    "eurostoxx['date'] = pd.to_datetime(eurostoxx['date'])"
   ]
  },
  {
   "cell_type": "code",
   "execution_count": 6,
   "metadata": {},
   "outputs": [
    {
     "data": {
      "text/html": [
       "<div>\n",
       "<style scoped>\n",
       "    .dataframe tbody tr th:only-of-type {\n",
       "        vertical-align: middle;\n",
       "    }\n",
       "\n",
       "    .dataframe tbody tr th {\n",
       "        vertical-align: top;\n",
       "    }\n",
       "\n",
       "    .dataframe thead th {\n",
       "        text-align: right;\n",
       "    }\n",
       "</style>\n",
       "<table border=\"1\" class=\"dataframe\">\n",
       "  <thead>\n",
       "    <tr style=\"text-align: right;\">\n",
       "      <th></th>\n",
       "      <th>date</th>\n",
       "      <th>Bund10y_change</th>\n",
       "    </tr>\n",
       "  </thead>\n",
       "  <tbody>\n",
       "    <tr>\n",
       "      <th>0</th>\n",
       "      <td>2025-01-10</td>\n",
       "      <td>1.44%</td>\n",
       "    </tr>\n",
       "    <tr>\n",
       "      <th>1</th>\n",
       "      <td>2025-01-09</td>\n",
       "      <td>0.28%</td>\n",
       "    </tr>\n",
       "    <tr>\n",
       "      <th>2</th>\n",
       "      <td>2025-01-08</td>\n",
       "      <td>1.55%</td>\n",
       "    </tr>\n",
       "    <tr>\n",
       "      <th>3</th>\n",
       "      <td>2025-01-07</td>\n",
       "      <td>1.55%</td>\n",
       "    </tr>\n",
       "    <tr>\n",
       "      <th>4</th>\n",
       "      <td>2025-01-06</td>\n",
       "      <td>0.95%</td>\n",
       "    </tr>\n",
       "  </tbody>\n",
       "</table>\n",
       "</div>"
      ],
      "text/plain": [
       "        date Bund10y_change\n",
       "0 2025-01-10          1.44%\n",
       "1 2025-01-09          0.28%\n",
       "2 2025-01-08          1.55%\n",
       "3 2025-01-07          1.55%\n",
       "4 2025-01-06          0.95%"
      ]
     },
     "execution_count": 6,
     "metadata": {},
     "output_type": "execute_result"
    }
   ],
   "source": [
    "Bund10y = pd.read_csv('raw data/10Y Bund.csv')\n",
    "Bund10y.head()\n",
    "Bund10y = Bund10y[['Date', 'Change %']]\n",
    "Bund10y.columns = ['date', 'Bund10y_change']\n",
    "Bund10y['date'] = pd.to_datetime(Bund10y['date'])\n",
    "Bund10y.head()"
   ]
  },
  {
   "cell_type": "code",
   "execution_count": 7,
   "metadata": {},
   "outputs": [
    {
     "name": "stdout",
     "output_type": "stream",
     "text": [
      "eurostox \n",
      " date                datetime64[ns]\n",
      "eurostoxx_change            object\n",
      "dtype: object \n",
      " ecb_release\n",
      " date           datetime64[ns]\n",
      "ECB_release             int64\n",
      "dtype: object \n",
      " Bund10y\n",
      " date              datetime64[ns]\n",
      "Bund10y_change            object\n",
      "dtype: object\n"
     ]
    }
   ],
   "source": [
    "print('eurostox \\n', eurostoxx.dtypes, '\\n ecb_release\\n', ecb_release.dtypes, '\\n Bund10y\\n', Bund10y.dtypes)"
   ]
  },
  {
   "cell_type": "code",
   "execution_count": 8,
   "metadata": {},
   "outputs": [
    {
     "name": "stdout",
     "output_type": "stream",
     "text": [
      "Index(['date', 'ECB_release'], dtype='object')\n",
      "Index(['date', 'eurostoxx_change'], dtype='object')\n",
      "Index(['date', 'Bund10y_change'], dtype='object')\n",
      "datetime64[ns]\n",
      "datetime64[ns]\n",
      "datetime64[ns]\n"
     ]
    }
   ],
   "source": [
    "print(ecb_release.columns)\n",
    "print(eurostoxx.columns)\n",
    "print(Bund10y.columns)\n",
    "\n",
    "print(ecb_release['date'].dtype)\n",
    "print(eurostoxx['date'].dtype)\n",
    "print(Bund10y['date'].dtype)"
   ]
  },
  {
   "cell_type": "code",
   "execution_count": 9,
   "metadata": {},
   "outputs": [
    {
     "data": {
      "text/html": [
       "<div>\n",
       "<style scoped>\n",
       "    .dataframe tbody tr th:only-of-type {\n",
       "        vertical-align: middle;\n",
       "    }\n",
       "\n",
       "    .dataframe tbody tr th {\n",
       "        vertical-align: top;\n",
       "    }\n",
       "\n",
       "    .dataframe thead th {\n",
       "        text-align: right;\n",
       "    }\n",
       "</style>\n",
       "<table border=\"1\" class=\"dataframe\">\n",
       "  <thead>\n",
       "    <tr style=\"text-align: right;\">\n",
       "      <th></th>\n",
       "      <th>date</th>\n",
       "      <th>ECB_release</th>\n",
       "      <th>eurostoxx_change</th>\n",
       "      <th>Bund10y_change</th>\n",
       "    </tr>\n",
       "  </thead>\n",
       "  <tbody>\n",
       "    <tr>\n",
       "      <th>0</th>\n",
       "      <td>2011-08-15</td>\n",
       "      <td>0</td>\n",
       "      <td>-16.97%</td>\n",
       "      <td>-0.39%</td>\n",
       "    </tr>\n",
       "    <tr>\n",
       "      <th>1</th>\n",
       "      <td>2011-08-16</td>\n",
       "      <td>0</td>\n",
       "      <td>-0.03%</td>\n",
       "      <td>-0.17%</td>\n",
       "    </tr>\n",
       "    <tr>\n",
       "      <th>2</th>\n",
       "      <td>2011-08-17</td>\n",
       "      <td>0</td>\n",
       "      <td>0.32%</td>\n",
       "      <td>-3.71%</td>\n",
       "    </tr>\n",
       "    <tr>\n",
       "      <th>3</th>\n",
       "      <td>2011-08-18</td>\n",
       "      <td>0</td>\n",
       "      <td>-5.34%</td>\n",
       "      <td>-6.80%</td>\n",
       "    </tr>\n",
       "    <tr>\n",
       "      <th>4</th>\n",
       "      <td>2011-08-19</td>\n",
       "      <td>0</td>\n",
       "      <td>-2.15%</td>\n",
       "      <td>0.77%</td>\n",
       "    </tr>\n",
       "  </tbody>\n",
       "</table>\n",
       "</div>"
      ],
      "text/plain": [
       "        date  ECB_release eurostoxx_change Bund10y_change\n",
       "0 2011-08-15            0          -16.97%         -0.39%\n",
       "1 2011-08-16            0           -0.03%         -0.17%\n",
       "2 2011-08-17            0            0.32%         -3.71%\n",
       "3 2011-08-18            0           -5.34%         -6.80%\n",
       "4 2011-08-19            0           -2.15%          0.77%"
      ]
     },
     "execution_count": 9,
     "metadata": {},
     "output_type": "execute_result"
    }
   ],
   "source": [
    " #Merging eurostox, ecb_release and Bund10y\n",
    "df = pd.merge(ecb_release, eurostoxx, on='date', how='inner')\n",
    "df = pd.merge(df, Bund10y, on='date', how='inner')\n",
    "df.head()"
   ]
  },
  {
   "cell_type": "code",
   "execution_count": 10,
   "metadata": {},
   "outputs": [
    {
     "name": "stdout",
     "output_type": "stream",
     "text": [
      "           Eurostoxx 50 response Bund 10Y response (price)\n",
      "Date                                                      \n",
      "2011-10-06                 3.18%                     5.54%\n",
      "2011-12-08                -2.43%                    -0.53%\n",
      "2014-06-05                 0.90%                    -1.39%\n",
      "2014-09-04                 1.81%                     0.84%\n",
      "2014-10-02                -2.77%                     0.88%\n",
      "2015-01-22                 1.62%                   -12.52%\n",
      "2015-03-05                 0.97%                    -6.04%\n",
      "2015-09-03                 2.23%                    -8.05%\n",
      "2016-03-10                -1.51%                    24.79%\n",
      "2016-04-21                 0.29%                    55.33%\n",
      "2016-06-02                -0.16%                   -16.42%\n",
      "2016-12-08                 1.39%                    10.72%\n",
      "2017-10-26                 1.27%                   -13.31%\n",
      "2019-09-12                 0.63%                    -6.60%\n",
      "2020-03-18                -5.72%                   -46.76%\n",
      "2023-02-02                 1.67%                   -10.28%\n"
     ]
    }
   ],
   "source": [
    "filtered_df = df[df['ECB_release'] == 1][['date', 'eurostoxx_change', 'Bund10y_change']]\n",
    "filtered_df.columns = ['Date', 'Eurostoxx 50 response', 'Bund 10Y response (price)']\n",
    "filtered_df.set_index('Date', inplace=True)\n",
    "# Display the filtered DataFrame\n",
    "print(filtered_df)"
   ]
  },
  {
   "cell_type": "code",
   "execution_count": 11,
   "metadata": {},
   "outputs": [
    {
     "name": "stderr",
     "output_type": "stream",
     "text": [
      "C:\\Users\\mathi\\AppData\\Local\\Temp\\ipykernel_54036\\3827994021.py:4: FutureWarning: The default fill_method='pad' in Series.pct_change is deprecated and will be removed in a future version. Either fill in any non-leading NA values prior to calling pct_change or specify 'fill_method=None' to not fill NA values.\n",
      "  us_treasury['% change'] = us_treasury['US 10Y Treasury rate'].pct_change() * 100\n"
     ]
    },
    {
     "data": {
      "text/html": [
       "<div>\n",
       "<style scoped>\n",
       "    .dataframe tbody tr th:only-of-type {\n",
       "        vertical-align: middle;\n",
       "    }\n",
       "\n",
       "    .dataframe tbody tr th {\n",
       "        vertical-align: top;\n",
       "    }\n",
       "\n",
       "    .dataframe thead th {\n",
       "        text-align: right;\n",
       "    }\n",
       "</style>\n",
       "<table border=\"1\" class=\"dataframe\">\n",
       "  <thead>\n",
       "    <tr style=\"text-align: right;\">\n",
       "      <th></th>\n",
       "      <th>date</th>\n",
       "      <th>US 10Y Treasury rate</th>\n",
       "      <th>% change</th>\n",
       "    </tr>\n",
       "  </thead>\n",
       "  <tbody>\n",
       "    <tr>\n",
       "      <th>0</th>\n",
       "      <td>2008-01-02</td>\n",
       "      <td>1.59</td>\n",
       "      <td>NaN</td>\n",
       "    </tr>\n",
       "    <tr>\n",
       "      <th>1</th>\n",
       "      <td>2008-01-03</td>\n",
       "      <td>1.58</td>\n",
       "      <td>-0.628931</td>\n",
       "    </tr>\n",
       "    <tr>\n",
       "      <th>2</th>\n",
       "      <td>2008-01-04</td>\n",
       "      <td>1.56</td>\n",
       "      <td>-1.265823</td>\n",
       "    </tr>\n",
       "    <tr>\n",
       "      <th>3</th>\n",
       "      <td>2008-01-07</td>\n",
       "      <td>1.57</td>\n",
       "      <td>0.641026</td>\n",
       "    </tr>\n",
       "    <tr>\n",
       "      <th>4</th>\n",
       "      <td>2008-01-08</td>\n",
       "      <td>1.57</td>\n",
       "      <td>0.000000</td>\n",
       "    </tr>\n",
       "  </tbody>\n",
       "</table>\n",
       "</div>"
      ],
      "text/plain": [
       "        date  US 10Y Treasury rate  % change\n",
       "0 2008-01-02                  1.59       NaN\n",
       "1 2008-01-03                  1.58 -0.628931\n",
       "2 2008-01-04                  1.56 -1.265823\n",
       "3 2008-01-07                  1.57  0.641026\n",
       "4 2008-01-08                  1.57  0.000000"
      ]
     },
     "execution_count": 11,
     "metadata": {},
     "output_type": "execute_result"
    }
   ],
   "source": [
    "us_treasury = pd.read_csv('raw data/10Y UStreasury.csv')\n",
    "us_treasury.columns = 'date', 'US 10Y Treasury rate'\n",
    "us_treasury['date'] = pd.to_datetime(us_treasury['date'])\n",
    "us_treasury['% change'] = us_treasury['US 10Y Treasury rate'].pct_change() * 100 \n",
    "us_treasury.head()"
   ]
  },
  {
   "cell_type": "code",
   "execution_count": 12,
   "metadata": {},
   "outputs": [
    {
     "data": {
      "text/html": [
       "<div>\n",
       "<style scoped>\n",
       "    .dataframe tbody tr th:only-of-type {\n",
       "        vertical-align: middle;\n",
       "    }\n",
       "\n",
       "    .dataframe tbody tr th {\n",
       "        vertical-align: top;\n",
       "    }\n",
       "\n",
       "    .dataframe thead th {\n",
       "        text-align: right;\n",
       "    }\n",
       "</style>\n",
       "<table border=\"1\" class=\"dataframe\">\n",
       "  <thead>\n",
       "    <tr style=\"text-align: right;\">\n",
       "      <th></th>\n",
       "      <th>date</th>\n",
       "      <th>SP500_change</th>\n",
       "    </tr>\n",
       "  </thead>\n",
       "  <tbody>\n",
       "    <tr>\n",
       "      <th>0</th>\n",
       "      <td>2025-01-10</td>\n",
       "      <td>-1.54%</td>\n",
       "    </tr>\n",
       "    <tr>\n",
       "      <th>1</th>\n",
       "      <td>2025-01-08</td>\n",
       "      <td>0.16%</td>\n",
       "    </tr>\n",
       "    <tr>\n",
       "      <th>2</th>\n",
       "      <td>2025-01-07</td>\n",
       "      <td>-1.11%</td>\n",
       "    </tr>\n",
       "    <tr>\n",
       "      <th>3</th>\n",
       "      <td>2025-01-06</td>\n",
       "      <td>0.55%</td>\n",
       "    </tr>\n",
       "    <tr>\n",
       "      <th>4</th>\n",
       "      <td>2025-01-03</td>\n",
       "      <td>1.26%</td>\n",
       "    </tr>\n",
       "  </tbody>\n",
       "</table>\n",
       "</div>"
      ],
      "text/plain": [
       "        date SP500_change\n",
       "0 2025-01-10       -1.54%\n",
       "1 2025-01-08        0.16%\n",
       "2 2025-01-07       -1.11%\n",
       "3 2025-01-06        0.55%\n",
       "4 2025-01-03        1.26%"
      ]
     },
     "execution_count": 12,
     "metadata": {},
     "output_type": "execute_result"
    }
   ],
   "source": [
    "sp500 = pd.read_csv('raw data/S&P 500.csv')\n",
    "sp500 = sp500[['Date', 'Change %']]\n",
    "sp500.columns = ['date', 'SP500_change']\n",
    "sp500['date'] = pd.to_datetime(sp500['date'])\n",
    "sp500.head()"
   ]
  },
  {
   "cell_type": "code",
   "execution_count": 13,
   "metadata": {},
   "outputs": [
    {
     "data": {
      "text/html": [
       "<div>\n",
       "<style scoped>\n",
       "    .dataframe tbody tr th:only-of-type {\n",
       "        vertical-align: middle;\n",
       "    }\n",
       "\n",
       "    .dataframe tbody tr th {\n",
       "        vertical-align: top;\n",
       "    }\n",
       "\n",
       "    .dataframe thead th {\n",
       "        text-align: right;\n",
       "    }\n",
       "</style>\n",
       "<table border=\"1\" class=\"dataframe\">\n",
       "  <thead>\n",
       "    <tr style=\"text-align: right;\">\n",
       "      <th></th>\n",
       "      <th>date</th>\n",
       "      <th>FED_release</th>\n",
       "    </tr>\n",
       "  </thead>\n",
       "  <tbody>\n",
       "    <tr>\n",
       "      <th>0</th>\n",
       "      <td>2008-01-01</td>\n",
       "      <td>0</td>\n",
       "    </tr>\n",
       "    <tr>\n",
       "      <th>1</th>\n",
       "      <td>2008-01-02</td>\n",
       "      <td>0</td>\n",
       "    </tr>\n",
       "    <tr>\n",
       "      <th>2</th>\n",
       "      <td>2008-01-03</td>\n",
       "      <td>0</td>\n",
       "    </tr>\n",
       "    <tr>\n",
       "      <th>3</th>\n",
       "      <td>2008-01-04</td>\n",
       "      <td>0</td>\n",
       "    </tr>\n",
       "    <tr>\n",
       "      <th>4</th>\n",
       "      <td>2008-01-05</td>\n",
       "      <td>0</td>\n",
       "    </tr>\n",
       "  </tbody>\n",
       "</table>\n",
       "</div>"
      ],
      "text/plain": [
       "        date  FED_release\n",
       "0 2008-01-01            0\n",
       "1 2008-01-02            0\n",
       "2 2008-01-03            0\n",
       "3 2008-01-04            0\n",
       "4 2008-01-05            0"
      ]
     },
     "execution_count": 13,
     "metadata": {},
     "output_type": "execute_result"
    }
   ],
   "source": [
    "fed_release = pd.read_csv('raw data/FED_release.csv')\n",
    "fed_release['Date'] = pd.to_datetime(fed_release['Date'])\n",
    "fed_release.columns = 'date', 'FED_release'\n",
    "\n",
    "additional_dates = pd.to_datetime(['2014-09-17', '2015-12-16'])\n",
    "fed_release.loc[(fed_release['FED_release'] == 0) & (fed_release['date'].isin(additional_dates)), 'FED_release'] = 1\n",
    "\n",
    "fed_release.head()"
   ]
  },
  {
   "cell_type": "code",
   "execution_count": 14,
   "metadata": {},
   "outputs": [
    {
     "data": {
      "text/html": [
       "<div>\n",
       "<style scoped>\n",
       "    .dataframe tbody tr th:only-of-type {\n",
       "        vertical-align: middle;\n",
       "    }\n",
       "\n",
       "    .dataframe tbody tr th {\n",
       "        vertical-align: top;\n",
       "    }\n",
       "\n",
       "    .dataframe thead th {\n",
       "        text-align: right;\n",
       "    }\n",
       "</style>\n",
       "<table border=\"1\" class=\"dataframe\">\n",
       "  <thead>\n",
       "    <tr style=\"text-align: right;\">\n",
       "      <th></th>\n",
       "      <th>date</th>\n",
       "      <th>FED_release</th>\n",
       "      <th>US 10Y Treasury rate</th>\n",
       "      <th>% change</th>\n",
       "      <th>SP500_change</th>\n",
       "    </tr>\n",
       "  </thead>\n",
       "  <tbody>\n",
       "    <tr>\n",
       "      <th>0</th>\n",
       "      <td>2008-01-02</td>\n",
       "      <td>0</td>\n",
       "      <td>1.59</td>\n",
       "      <td>NaN</td>\n",
       "      <td>-1.44%</td>\n",
       "    </tr>\n",
       "    <tr>\n",
       "      <th>1</th>\n",
       "      <td>2008-01-03</td>\n",
       "      <td>0</td>\n",
       "      <td>1.58</td>\n",
       "      <td>-0.628931</td>\n",
       "      <td>0.00%</td>\n",
       "    </tr>\n",
       "    <tr>\n",
       "      <th>2</th>\n",
       "      <td>2008-01-04</td>\n",
       "      <td>0</td>\n",
       "      <td>1.56</td>\n",
       "      <td>-1.265823</td>\n",
       "      <td>-2.46%</td>\n",
       "    </tr>\n",
       "    <tr>\n",
       "      <th>3</th>\n",
       "      <td>2008-01-07</td>\n",
       "      <td>0</td>\n",
       "      <td>1.57</td>\n",
       "      <td>0.641026</td>\n",
       "      <td>0.33%</td>\n",
       "    </tr>\n",
       "    <tr>\n",
       "      <th>4</th>\n",
       "      <td>2008-01-08</td>\n",
       "      <td>0</td>\n",
       "      <td>1.57</td>\n",
       "      <td>0.000000</td>\n",
       "      <td>-1.84%</td>\n",
       "    </tr>\n",
       "  </tbody>\n",
       "</table>\n",
       "</div>"
      ],
      "text/plain": [
       "        date  FED_release  US 10Y Treasury rate  % change SP500_change\n",
       "0 2008-01-02            0                  1.59       NaN       -1.44%\n",
       "1 2008-01-03            0                  1.58 -0.628931        0.00%\n",
       "2 2008-01-04            0                  1.56 -1.265823       -2.46%\n",
       "3 2008-01-07            0                  1.57  0.641026        0.33%\n",
       "4 2008-01-08            0                  1.57  0.000000       -1.84%"
      ]
     },
     "execution_count": 14,
     "metadata": {},
     "output_type": "execute_result"
    }
   ],
   "source": [
    "#merging us_treasury,  fed_release and sp500\n",
    "df2 = pd.merge(fed_release, us_treasury, on='date', how='inner')\n",
    "df2 = pd.merge(df2, sp500, on='date', how='inner')\n",
    "df2.head()"
   ]
  },
  {
   "cell_type": "code",
   "execution_count": 18,
   "metadata": {},
   "outputs": [
    {
     "name": "stdout",
     "output_type": "stream",
     "text": [
      "            US 10Y yield change SP500 response\n",
      "date                                          \n",
      "2008-11-25                -10.3          0.66%\n",
      "2008-12-01                 -8.5         -8.93%\n",
      "2008-12-16                 -9.1          5.13%\n",
      "2009-01-28                  2.3          3.36%\n",
      "2009-03-18                -32.6          2.09%\n",
      "2010-08-27                 10.5          1.66%\n",
      "2010-09-21                -17.0         -0.25%\n",
      "2010-10-12                  8.9          0.39%\n",
      "2010-10-15                 22.0          0.20%\n",
      "2010-11-03                  2.0          0.37%\n",
      "2011-08-26                 15.4          1.51%\n",
      "2012-08-22                 22.2          0.02%\n",
      "2012-09-13                 18.0          1.63%\n",
      "2012-12-12                 -6.0          0.05%\n",
      "2014-09-17                 16.7          0.13%\n",
      "2015-12-16                  5.0          1.45%\n"
     ]
    }
   ],
   "source": [
    "filtered_df_2 = df2[df2['FED_release'] == 1][['date', '% change', 'SP500_change']]\n",
    "filtered_df_2.columns = ['date', 'US 10Y yield change', 'SP500 response']\n",
    "filtered_df_2['US 10Y yield change'] = filtered_df_2['US 10Y yield change'].round(1)\n",
    "filtered_df_2['SP500 response'] = filtered_df_2['SP500 response'].round(0)\n",
    "filtered_df_2.set_index('date', inplace=True)\n",
    "print(filtered_df_2)"
   ]
  },
  {
   "cell_type": "code",
   "execution_count": null,
   "metadata": {},
   "outputs": [],
   "source": []
  }
 ],
 "metadata": {
  "kernelspec": {
   "display_name": "Python 3",
   "language": "python",
   "name": "python3"
  },
  "language_info": {
   "codemirror_mode": {
    "name": "ipython",
    "version": 3
   },
   "file_extension": ".py",
   "mimetype": "text/x-python",
   "name": "python",
   "nbconvert_exporter": "python",
   "pygments_lexer": "ipython3",
   "version": "3.12.4"
  }
 },
 "nbformat": 4,
 "nbformat_minor": 2
}
