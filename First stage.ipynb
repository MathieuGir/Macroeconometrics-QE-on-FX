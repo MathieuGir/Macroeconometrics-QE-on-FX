{
 "cells": [
  {
   "cell_type": "code",
   "execution_count": null,
   "metadata": {},
   "outputs": [],
   "source": [
    "import pandas as pd\n",
    "import statsmodels.api as sm"
   ]
  },
  {
   "cell_type": "code",
   "execution_count": null,
   "metadata": {},
   "outputs": [],
   "source": [
    "df = pd.read_csv('data\\cleaned data\\monthly_data.csv')\n",
    "df['date'] = pd.to_datetime(df['date'])\n",
    "df = df.set_index('date')\n",
    "df.head()\n",
    "print(len(df))"
   ]
  },
  {
   "cell_type": "code",
   "execution_count": null,
   "metadata": {},
   "outputs": [],
   "source": [
    "def first_stage(M=9, df = df):\n",
    "\n",
    "    omega_bar = df['omega'].mean()\n",
    "    X = df[['Meeting_ECB', 'Meeting_FED']]\n",
    "    X['omega_t-1'] = df['omega'].shift(1)\n",
    "    X['const'] = omega_bar\n",
    "    \n",
    "    y = (df['BS'].shift(-(M-1)) - df['BS'])/df['BS'] # \\sum_m \\Delta BS_t+m = (BS_t+m - BS_t-1) / BS_t-1\n",
    "    model = sm.OLS(y, X).fit()\n",
    "    results = model.fit()\n",
    "    return(results.summary())\n",
    "\n",
    "first_stage()\n",
    "\n",
    "#After several attempts, the first stage regression does not work. We believe it is due to the fact that omega is misspecified."
   ]
  }
 ],
 "metadata": {
  "kernelspec": {
   "display_name": "Python 3",
   "language": "python",
   "name": "python3"
  },
  "language_info": {
   "codemirror_mode": {
    "name": "ipython",
    "version": 3
   },
   "file_extension": ".py",
   "mimetype": "text/x-python",
   "name": "python",
   "nbconvert_exporter": "python",
   "pygments_lexer": "ipython3",
   "version": "3.12.4"
  }
 },
 "nbformat": 4,
 "nbformat_minor": 2
}
